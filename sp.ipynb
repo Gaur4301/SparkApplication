{
 "cells": [
  {
   "cell_type": "code",
   "execution_count": 1,
   "metadata": {},
   "outputs": [
    {
     "name": "stdout",
     "output_type": "stream",
     "text": [
      "Collecting spark\n",
      "  Downloading spark-0.2.1.tar.gz (41 kB)\n",
      "     ---------------------------------------- 0.0/41.0 kB ? eta -:--:--\n",
      "     ------------------ ------------------- 20.5/41.0 kB 330.3 kB/s eta 0:00:01\n",
      "     -------------------------------------- 41.0/41.0 kB 394.9 kB/s eta 0:00:00\n",
      "  Installing build dependencies: started\n",
      "  Installing build dependencies: finished with status 'done'\n",
      "  Getting requirements to build wheel: started\n",
      "  Getting requirements to build wheel: finished with status 'done'\n",
      "  Installing backend dependencies: started\n",
      "  Installing backend dependencies: finished with status 'done'\n",
      "  Preparing metadata (pyproject.toml): started\n",
      "  Preparing metadata (pyproject.toml): finished with status 'done'\n",
      "Building wheels for collected packages: spark\n",
      "  Building wheel for spark (pyproject.toml): started\n",
      "  Building wheel for spark (pyproject.toml): finished with status 'done'\n",
      "  Created wheel for spark: filename=spark-0.2.1-py3-none-any.whl size=58761 sha256=014ec34a8a5dd78d9a3b2a2c350b4642ec53f4a61b64bd84d29d20523d7822c4\n",
      "  Stored in directory: c:\\users\\gaura\\appdata\\local\\pip\\cache\\wheels\\6f\\db\\e2\\945dc8c17477cf9ab56d9f9aa1fa75b75335fffff9b12d867d\n",
      "Successfully built spark\n",
      "Installing collected packages: spark\n",
      "Successfully installed spark-0.2.1\n",
      "Note: you may need to restart the kernel to use updated packages.\n"
     ]
    }
   ],
   "source": [
    "pip install spark"
   ]
  }
 ],
 "metadata": {
  "kernelspec": {
   "display_name": "Python 3",
   "language": "python",
   "name": "python3"
  },
  "language_info": {
   "codemirror_mode": {
    "name": "ipython",
    "version": 3
   },
   "file_extension": ".py",
   "mimetype": "text/x-python",
   "name": "python",
   "nbconvert_exporter": "python",
   "pygments_lexer": "ipython3",
   "version": "3.12.2"
  }
 },
 "nbformat": 4,
 "nbformat_minor": 2
}
